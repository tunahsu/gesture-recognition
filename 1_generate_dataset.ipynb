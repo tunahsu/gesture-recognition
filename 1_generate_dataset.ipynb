{
 "cells": [
  {
   "cell_type": "markdown",
   "metadata": {},
   "source": [
    "## MediaPipe Hands Demo"
   ]
  },
  {
   "cell_type": "code",
   "execution_count": 1,
   "metadata": {},
   "outputs": [],
   "source": [
    "import cv2\n",
    "from PIL import Image\n",
    "from utils.keypoint import DetectHandKeypoint"
   ]
  },
  {
   "cell_type": "code",
   "execution_count": 2,
   "metadata": {},
   "outputs": [
    {
     "name": "stderr",
     "output_type": "stream",
     "text": [
      "INFO: Created TensorFlow Lite XNNPACK delegate for CPU.\n",
      "/home/we2060/anaconda3/envs/AD/lib/python3.10/site-packages/google/protobuf/symbol_database.py:55: UserWarning: SymbolDatabase.GetPrototype() is deprecated. Please use message_factory.GetMessageClass() instead. SymbolDatabase.GetPrototype() will be removed soon.\n",
      "  warnings.warn('SymbolDatabase.GetPrototype() is deprecated. Please '\n"
     ]
    },
    {
     "data": {
      "text/plain": [
       "[0.4860430061817169,\n",
       " 0.8295611143112183,\n",
       " 0.6665681004524231,\n",
       " 0.5686064958572388,\n",
       " 0.49289634823799133,\n",
       " 0.316055029630661,\n",
       " 0.6350358724594116,\n",
       " 0.24668514728546143,\n",
       " 0.6095723509788513,\n",
       " 0.03970050811767578,\n",
       " 0.48593100905418396,\n",
       " 0.2989979088306427,\n",
       " 0.5423980951309204,\n",
       " 0.5191080570220947,\n",
       " 0.3951612114906311,\n",
       " 0.3955288529396057,\n",
       " 0.46636563539505005,\n",
       " 0.6104665994644165,\n",
       " 0.32098066806793213,\n",
       " 0.4839574992656708,\n",
       " 0.37239277362823486,\n",
       " 0.6379902362823486]"
      ]
     },
     "execution_count": 2,
     "metadata": {},
     "output_type": "execute_result"
    }
   ],
   "source": [
    "\n",
    "\n",
    "detector = DetectHandKeypoint()\n",
    "img = cv2.imread('datasets/Gesture/d/d_3.jpg')\n",
    "img_rgb = cv2.cvtColor(img, cv2.COLOR_BGR2RGB)\n",
    "results = detector(img_rgb)\n",
    "keypoints = detector.get_keypoint_list(results.multi_hand_landmarks[0].landmark)\n",
    "keypoints"
   ]
  },
  {
   "cell_type": "code",
   "execution_count": 3,
   "metadata": {},
   "outputs": [
    {
     "data": {
      "image/jpeg": "[encoded data removed]",
      "image/png": "[encoded data removed]",
      "text/plain": [
       "<PIL.Image.Image image mode=RGB size=100x100>"
      ]
     },
     "execution_count": 3,
     "metadata": {},
     "output_type": "execute_result"
    }
   ],
   "source": [
    "detector.plot(img, results.multi_hand_landmarks[0])\n",
    "Image.fromarray(cv2.cvtColor(img, cv2.COLOR_BGR2RGB))"
   ]
  },
  {
   "cell_type": "markdown",
   "metadata": {},
   "source": [
    "## Generate Dataset"
   ]
  },
  {
   "cell_type": "code",
   "execution_count": 4,
   "metadata": {},
   "outputs": [],
   "source": [
    "import os\n",
    "import glob"
   ]
  },
  {
   "cell_type": "code",
   "execution_count": 5,
   "metadata": {},
   "outputs": [
    {
     "data": {
      "text/plain": [
       "['d', 'y', 'f', 'v']"
      ]
     },
     "execution_count": 5,
     "metadata": {},
     "output_type": "execute_result"
    }
   ],
   "source": [
    "dataset_root = 'datasets/Gesture/'\n",
    "gesture_list = os.listdir(dataset_root)\n",
    "gesture_list"
   ]
  },
  {
   "cell_type": "code",
   "execution_count": 6,
   "metadata": {},
   "outputs": [
    {
     "name": "stderr",
     "output_type": "stream",
     "text": [
      "100%|██████████| 1500/1500 [00:33<00:00, 45.06it/s]\n",
      "100%|██████████| 1500/1500 [00:27<00:00, 53.64it/s]\n",
      "100%|██████████| 1500/1500 [00:31<00:00, 48.06it/s]\n",
      "100%|██████████| 1500/1500 [00:31<00:00, 47.65it/s]\n"
     ]
    }
   ],
   "source": [
    "from tqdm import tqdm\n",
    "dataset_csv = []\n",
    "\n",
    "for gesture in gesture_list:\n",
    "    image_path_list = glob.glob(f'{dataset_root}/{gesture}/*.jpg')\n",
    "    for i in tqdm(range(len(image_path_list))):\n",
    "        # Get image_name\n",
    "        image_name = image_path_list[i].split('/')[-1]\n",
    "        # Read numpy image\n",
    "        img = cv2.imread(image_path_list[i])\n",
    "        img_rgb = cv2.cvtColor(img, cv2.COLOR_BGR2RGB)\n",
    "        \n",
    "        # Get predicted results\n",
    "        results = detector(img_rgb)\n",
    "        # Get all skeletons\n",
    "        if results.multi_hand_landmarks:\n",
    "            keypoint_list = detector.get_keypoint_list(results.multi_hand_landmarks[0].landmark)\n",
    "\n",
    "            # keypoint_list = detector.get_keypoint_list(keypoint)\n",
    "            # inset image name, label in index 0, 1\n",
    "            keypoint_list.insert(0, image_name)\n",
    "            keypoint_list.insert(1, gesture)\n",
    "            dataset_csv.append(keypoint_list)"
   ]
  },
  {
   "cell_type": "markdown",
   "metadata": {},
   "source": [
    "## Write Dataset "
   ]
  },
  {
   "cell_type": "code",
   "execution_count": 7,
   "metadata": {},
   "outputs": [],
   "source": [
    "import csv\n",
    "\n",
    "# write csv\n",
    "header = [\n",
    "    'image_name', 'label',\n",
    "    # wrist\n",
    "    'wrist_x', 'wrist_y',\n",
    "    # thumb\n",
    "    'thumb_mcp_x', 'thumb_mcp_y',\n",
    "    'thumb_tip_x', 'thumb_tip_y',\n",
    "    # index finger\n",
    "    'index_finger_pip_x', 'index_finger_pip_y',\n",
    "    'index_finger_tip_x', 'index_finger_tip_y',\n",
    "    # middle finger\n",
    "    'middle_finger_pip_x', 'middle_finger_pip_y',\n",
    "    'middle_finger_tip_x', 'middle_finger_tip_y',\n",
    "    # ring finger\n",
    "    'ring_finger_pip_x', 'ring_finger_pip_y',\n",
    "    'ring_finger_tip_x', 'ring_finger_tip_y',\n",
    "    # pinky finger\n",
    "    'pinky_finger_pip_x', 'pinky_finger_pip_y',\n",
    "    'pinky_finger_tip_x', 'pinky_finger_tip_y'\n",
    "]\n",
    "\n",
    "csv_path = os.path.join(dataset_root, 'keypoints.csv')\n",
    "\n",
    "with open(csv_path, 'w', encoding='utf-8', newline='') as f:\n",
    "    writer = csv.writer(f)\n",
    "    # write the header\n",
    "    writer.writerow(header)\n",
    "    # write multiple rows\n",
    "    writer.writerows(dataset_csv)"
   ]
  },
  {
   "cell_type": "code",
   "execution_count": 8,
   "metadata": {},
   "outputs": [
    {
     "data": {
      "text/html": [
       "<div>\n",
       "<style scoped>\n",
       "    .dataframe tbody tr th:only-of-type {\n",
       "        vertical-align: middle;\n",
       "    }\n",
       "\n",
       "    .dataframe tbody tr th {\n",
       "        vertical-align: top;\n",
       "    }\n",
       "\n",
       "    .dataframe thead th {\n",
       "        text-align: right;\n",
       "    }\n",
       "</style>\n",
       "<table border=\"1\" class=\"dataframe\">\n",
       "  <thead>\n",
       "    <tr style=\"text-align: right;\">\n",
       "      <th></th>\n",
       "      <th>image_name</th>\n",
       "      <th>label</th>\n",
       "      <th>wrist_x</th>\n",
       "      <th>wrist_y</th>\n",
       "      <th>thumb_mcp_x</th>\n",
       "      <th>thumb_mcp_y</th>\n",
       "      <th>thumb_tip_x</th>\n",
       "      <th>thumb_tip_y</th>\n",
       "      <th>index_finger_pip_x</th>\n",
       "      <th>index_finger_pip_y</th>\n",
       "      <th>...</th>\n",
       "      <th>middle_finger_tip_x</th>\n",
       "      <th>middle_finger_tip_y</th>\n",
       "      <th>ring_finger_pip_x</th>\n",
       "      <th>ring_finger_pip_y</th>\n",
       "      <th>ring_finger_tip_x</th>\n",
       "      <th>ring_finger_tip_y</th>\n",
       "      <th>pinky_finger_pip_x</th>\n",
       "      <th>pinky_finger_pip_y</th>\n",
       "      <th>pinky_finger_tip_x</th>\n",
       "      <th>pinky_finger_tip_y</th>\n",
       "    </tr>\n",
       "  </thead>\n",
       "  <tbody>\n",
       "    <tr>\n",
       "      <th>0</th>\n",
       "      <td>d_692.jpg</td>\n",
       "      <td>d</td>\n",
       "      <td>0.618151</td>\n",
       "      <td>0.876113</td>\n",
       "      <td>0.705054</td>\n",
       "      <td>0.615049</td>\n",
       "      <td>0.422460</td>\n",
       "      <td>0.450940</td>\n",
       "      <td>0.631901</td>\n",
       "      <td>0.277557</td>\n",
       "      <td>...</td>\n",
       "      <td>0.549780</td>\n",
       "      <td>0.543019</td>\n",
       "      <td>0.385581</td>\n",
       "      <td>0.501556</td>\n",
       "      <td>0.526133</td>\n",
       "      <td>0.623931</td>\n",
       "      <td>0.361523</td>\n",
       "      <td>0.623654</td>\n",
       "      <td>0.489014</td>\n",
       "      <td>0.710604</td>\n",
       "    </tr>\n",
       "    <tr>\n",
       "      <th>1</th>\n",
       "      <td>d_420.jpg</td>\n",
       "      <td>d</td>\n",
       "      <td>0.411787</td>\n",
       "      <td>0.819458</td>\n",
       "      <td>0.466265</td>\n",
       "      <td>0.599594</td>\n",
       "      <td>0.376716</td>\n",
       "      <td>0.498577</td>\n",
       "      <td>0.417343</td>\n",
       "      <td>0.384985</td>\n",
       "      <td>...</td>\n",
       "      <td>0.405332</td>\n",
       "      <td>0.596215</td>\n",
       "      <td>0.349775</td>\n",
       "      <td>0.520015</td>\n",
       "      <td>0.375494</td>\n",
       "      <td>0.640230</td>\n",
       "      <td>0.320038</td>\n",
       "      <td>0.575412</td>\n",
       "      <td>0.340712</td>\n",
       "      <td>0.658984</td>\n",
       "    </tr>\n",
       "    <tr>\n",
       "      <th>2</th>\n",
       "      <td>d_840.jpg</td>\n",
       "      <td>d</td>\n",
       "      <td>0.460546</td>\n",
       "      <td>0.912746</td>\n",
       "      <td>0.604421</td>\n",
       "      <td>0.735319</td>\n",
       "      <td>0.469869</td>\n",
       "      <td>0.609714</td>\n",
       "      <td>0.607432</td>\n",
       "      <td>0.367080</td>\n",
       "      <td>...</td>\n",
       "      <td>0.480922</td>\n",
       "      <td>0.579544</td>\n",
       "      <td>0.357676</td>\n",
       "      <td>0.487423</td>\n",
       "      <td>0.410179</td>\n",
       "      <td>0.624444</td>\n",
       "      <td>0.282997</td>\n",
       "      <td>0.583172</td>\n",
       "      <td>0.348465</td>\n",
       "      <td>0.650387</td>\n",
       "    </tr>\n",
       "    <tr>\n",
       "      <th>3</th>\n",
       "      <td>d_1483.jpg</td>\n",
       "      <td>d</td>\n",
       "      <td>0.612783</td>\n",
       "      <td>0.973389</td>\n",
       "      <td>0.651738</td>\n",
       "      <td>0.690360</td>\n",
       "      <td>0.473596</td>\n",
       "      <td>0.561144</td>\n",
       "      <td>0.623126</td>\n",
       "      <td>0.476593</td>\n",
       "      <td>...</td>\n",
       "      <td>0.544173</td>\n",
       "      <td>0.646420</td>\n",
       "      <td>0.424313</td>\n",
       "      <td>0.612456</td>\n",
       "      <td>0.517804</td>\n",
       "      <td>0.724607</td>\n",
       "      <td>0.387420</td>\n",
       "      <td>0.676069</td>\n",
       "      <td>0.471215</td>\n",
       "      <td>0.761102</td>\n",
       "    </tr>\n",
       "    <tr>\n",
       "      <th>4</th>\n",
       "      <td>d_798.jpg</td>\n",
       "      <td>d</td>\n",
       "      <td>0.559466</td>\n",
       "      <td>1.039490</td>\n",
       "      <td>0.714575</td>\n",
       "      <td>0.826325</td>\n",
       "      <td>0.553946</td>\n",
       "      <td>0.656391</td>\n",
       "      <td>0.605815</td>\n",
       "      <td>0.397054</td>\n",
       "      <td>...</td>\n",
       "      <td>0.590521</td>\n",
       "      <td>0.682558</td>\n",
       "      <td>0.472580</td>\n",
       "      <td>0.607049</td>\n",
       "      <td>0.531682</td>\n",
       "      <td>0.783548</td>\n",
       "      <td>0.404718</td>\n",
       "      <td>0.682563</td>\n",
       "      <td>0.457287</td>\n",
       "      <td>0.793659</td>\n",
       "    </tr>\n",
       "  </tbody>\n",
       "</table>\n",
       "<p>5 rows × 24 columns</p>\n",
       "</div>"
      ],
      "text/plain": [
       "   image_name label   wrist_x   wrist_y  thumb_mcp_x  thumb_mcp_y  \\\n",
       "0   d_692.jpg     d  0.618151  0.876113     0.705054     0.615049   \n",
       "1   d_420.jpg     d  0.411787  0.819458     0.466265     0.599594   \n",
       "2   d_840.jpg     d  0.460546  0.912746     0.604421     0.735319   \n",
       "3  d_1483.jpg     d  0.612783  0.973389     0.651738     0.690360   \n",
       "4   d_798.jpg     d  0.559466  1.039490     0.714575     0.826325   \n",
       "\n",
       "   thumb_tip_x  thumb_tip_y  index_finger_pip_x  index_finger_pip_y  ...  \\\n",
       "0     0.422460     0.450940            0.631901            0.277557  ...   \n",
       "1     0.376716     0.498577            0.417343            0.384985  ...   \n",
       "2     0.469869     0.609714            0.607432            0.367080  ...   \n",
       "3     0.473596     0.561144            0.623126            0.476593  ...   \n",
       "4     0.553946     0.656391            0.605815            0.397054  ...   \n",
       "\n",
       "   middle_finger_tip_x  middle_finger_tip_y  ring_finger_pip_x  \\\n",
       "0             0.549780             0.543019           0.385581   \n",
       "1             0.405332             0.596215           0.349775   \n",
       "2             0.480922             0.579544           0.357676   \n",
       "3             0.544173             0.646420           0.424313   \n",
       "4             0.590521             0.682558           0.472580   \n",
       "\n",
       "   ring_finger_pip_y  ring_finger_tip_x  ring_finger_tip_y  \\\n",
       "0           0.501556           0.526133           0.623931   \n",
       "1           0.520015           0.375494           0.640230   \n",
       "2           0.487423           0.410179           0.624444   \n",
       "3           0.612456           0.517804           0.724607   \n",
       "4           0.607049           0.531682           0.783548   \n",
       "\n",
       "   pinky_finger_pip_x  pinky_finger_pip_y  pinky_finger_tip_x  \\\n",
       "0            0.361523            0.623654            0.489014   \n",
       "1            0.320038            0.575412            0.340712   \n",
       "2            0.282997            0.583172            0.348465   \n",
       "3            0.387420            0.676069            0.471215   \n",
       "4            0.404718            0.682563            0.457287   \n",
       "\n",
       "   pinky_finger_tip_y  \n",
       "0            0.710604  \n",
       "1            0.658984  \n",
       "2            0.650387  \n",
       "3            0.761102  \n",
       "4            0.793659  \n",
       "\n",
       "[5 rows x 24 columns]"
      ]
     },
     "execution_count": 8,
     "metadata": {},
     "output_type": "execute_result"
    }
   ],
   "source": [
    "import pandas as pd\n",
    "\n",
    "df = pd.read_csv(csv_path)\n",
    "df.head()"
   ]
  }
 ],
 "metadata": {
  "kernelspec": {
   "display_name": "HPC",
   "language": "python",
   "name": "python3"
  },
  "language_info": {
   "codemirror_mode": {
    "name": "ipython",
    "version": 3
   },
   "file_extension": ".py",
   "mimetype": "text/x-python",
   "name": "python",
   "nbconvert_exporter": "python",
   "pygments_lexer": "ipython3",
   "version": "3.10.14"
  }
 },
 "nbformat": 4,
 "nbformat_minor": 2
}
