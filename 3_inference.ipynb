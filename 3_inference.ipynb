{
 "cells": [
  {
   "cell_type": "code",
   "execution_count": 1,
   "metadata": {},
   "outputs": [],
   "source": [
    "import cv2\n",
    "\n",
    "import numpy as np\n",
    "\n",
    "from PIL import Image\n",
    "from utils.keypoint import DetectHandKeypoint\n",
    "from utils.classifier import Classifier"
   ]
  },
  {
   "cell_type": "code",
   "execution_count": 2,
   "metadata": {},
   "outputs": [
    {
     "name": "stderr",
     "output_type": "stream",
     "text": [
      "INFO: Created TensorFlow Lite XNNPACK delegate for CPU.\n"
     ]
    }
   ],
   "source": [
    "detector = DetectHandKeypoint()\n",
    "classifier = Classifier('models/classification.pt')"
   ]
  },
  {
   "cell_type": "code",
   "execution_count": 3,
   "metadata": {},
   "outputs": [
    {
     "name": "stderr",
     "output_type": "stream",
     "text": [
      "/home/we2060/anaconda3/envs/AD/lib/python3.10/site-packages/google/protobuf/symbol_database.py:55: UserWarning: SymbolDatabase.GetPrototype() is deprecated. Please use message_factory.GetMessageClass() instead. SymbolDatabase.GetPrototype() will be removed soon.\n",
      "  warnings.warn('SymbolDatabase.GetPrototype() is deprecated. Please '\n"
     ]
    },
    {
     "data": {
      "text/plain": [
       "array([0.41793316, 0.51367786, 0.31825374, 0.37915703, 0.25237061,\n",
       "       0.38797039, 0.32487583, 0.37922057, 0.2598793 , 0.40103962,\n",
       "       0.29632173, 0.54242608, 0.41121965, 0.7031179 , 0.31888164,\n",
       "       0.53166816, 0.35929225, 0.64566266, 0.33600407, 0.58094885,\n",
       "       0.39798837, 0.64502566])"
      ]
     },
     "execution_count": 3,
     "metadata": {},
     "output_type": "execute_result"
    }
   ],
   "source": [
    "# Run keypoint detection\n",
    "img = cv2.imread('datasets/Gesture/d/d_8.jpg')\n",
    "img_rgb = cv2.cvtColor(img, cv2.COLOR_BGR2RGB)\n",
    "results = detector(img_rgb)\n",
    "keypoints = detector.get_keypoint_list(results.multi_hand_landmarks[0].landmark)\n",
    "\n",
    "scaler_minmax_path = 'models/scaler_minmax.npy'\n",
    "min, max = np.load(scaler_minmax_path)\n",
    "scaled_keypoints = np.subtract(keypoints, min) / np.subtract(max, min)\n",
    "scaled_keypoints"
   ]
  },
  {
   "cell_type": "code",
   "execution_count": 4,
   "metadata": {},
   "outputs": [
    {
     "data": {
      "text/plain": [
       "'☝️'"
      ]
     },
     "execution_count": 4,
     "metadata": {},
     "output_type": "execute_result"
    }
   ],
   "source": [
    "prediction = classifier(scaled_keypoints)\n",
    "prediction"
   ]
  },
  {
   "cell_type": "code",
   "execution_count": 5,
   "metadata": {},
   "outputs": [
    {
     "data": {
      "image/jpeg": "[encoded data removed]",
      "image/png": "[encoded data removed]",
      "text/plain": [
       "<PIL.Image.Image image mode=RGB size=100x56>"
      ]
     },
     "execution_count": 5,
     "metadata": {},
     "output_type": "execute_result"
    }
   ],
   "source": [
    "## Visualise Keypoint\n",
    "img_pred = detector.plot(img, results.multi_hand_landmarks[0])\n",
    "Image.fromarray(cv2.cvtColor(img_pred, cv2.COLOR_BGR2RGB))"
   ]
  }
 ],
 "metadata": {
  "kernelspec": {
   "display_name": "HPC",
   "language": "python",
   "name": "python3"
  },
  "language_info": {
   "codemirror_mode": {
    "name": "ipython",
    "version": 3
   },
   "file_extension": ".py",
   "mimetype": "text/x-python",
   "name": "python",
   "nbconvert_exporter": "python",
   "pygments_lexer": "ipython3",
   "version": "3.10.14"
  }
 },
 "nbformat": 4,
 "nbformat_minor": 2
}
